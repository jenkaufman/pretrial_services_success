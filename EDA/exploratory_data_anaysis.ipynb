{
 "cells": [
  {
   "cell_type": "code",
   "execution_count": null,
   "id": "8d6f558d-088b-46f3-a8b7-5d6d7dac817e",
   "metadata": {},
   "outputs": [],
   "source": [
    "import pandas as pd\n",
    "import matplotlib.pyplot as plt\n",
    "import numpy as np\n",
    "import scipy.stats as stats\n",
    "import seaborn as sns\n",
    "from IPython.display import display\n",
    "\n",
    "%matplotlib inline\n",
    "plt.style.use('ggplot')"
   ]
  },
  {
   "cell_type": "code",
   "execution_count": null,
   "id": "ce70f549-acb9-4df8-802a-0033a8c7ad99",
   "metadata": {},
   "outputs": [],
   "source": [
    "df = pd.read_csv('/Users/jenniferkaufman/Desktop/dsi_galvanize/capstones/capstone1/pretrial_services_success/ahAC21Q3.csv')"
   ]
  },
  {
   "cell_type": "code",
   "execution_count": null,
   "id": "9eb604ad-b67a-4cef-bb69-0e380493566d",
   "metadata": {},
   "outputs": [],
   "source": [
    "pd.options.display.max_columns = None\n",
    "df.head()"
   ]
  },
  {
   "cell_type": "code",
   "execution_count": null,
   "id": "431d79f0-b59d-4779-9c49-537ce5d7a84f",
   "metadata": {},
   "outputs": [],
   "source": [
    "df.info()"
   ]
  },
  {
   "cell_type": "code",
   "execution_count": null,
   "id": "85bdb891-d864-460b-b1b0-061e71fcc03f",
   "metadata": {},
   "outputs": [],
   "source": [
    "df.describe()"
   ]
  },
  {
   "cell_type": "markdown",
   "id": "141c2e3c-880a-472b-8a1d-8a7817be7fef",
   "metadata": {},
   "source": [
    "### Data Cleaning"
   ]
  },
  {
   "cell_type": "code",
   "execution_count": null,
   "id": "f77e275e-fe51-4e77-ba16-6d3c689d0075",
   "metadata": {},
   "outputs": [],
   "source": [
    "df[df['Age']==0] #two rows with the same STAYID and CASEID have age =0"
   ]
  },
  {
   "cell_type": "code",
   "execution_count": null,
   "id": "b55bc12c-35aa-4eed-8242-e9c11ea41b09",
   "metadata": {},
   "outputs": [],
   "source": [
    "df = df[df['Age'] != 0.] #dropped the two rows with 0 for age "
   ]
  },
  {
   "cell_type": "code",
   "execution_count": null,
   "id": "dd4fa47f-0a8e-4804-9bdc-f0546a682dea",
   "metadata": {},
   "outputs": [],
   "source": [
    "df.describe()"
   ]
  },
  {
   "cell_type": "code",
   "execution_count": null,
   "id": "53af1a56-f3b5-4fea-950d-fb7b8cbbc076",
   "metadata": {},
   "outputs": [],
   "source": [
    "df['TERMREASONID'].value_counts()"
   ]
  },
  {
   "cell_type": "code",
   "execution_count": null,
   "id": "840f7f5c-d50b-4866-8c06-266e22d054d4",
   "metadata": {},
   "outputs": [],
   "source": [
    "df['TERMINATIONID'].value_counts()"
   ]
  },
  {
   "cell_type": "code",
   "execution_count": null,
   "id": "06836414-f937-4a5f-a3f6-3e549e082fe9",
   "metadata": {},
   "outputs": [],
   "source": [
    "df.loc[(df['TERMREASONID']=='NC'),'TERMINATIONID'] = 61 #some with TERMREASONID = 'NC' are coded incorrectly in TERMINATIONID(should be 61(unsuccessful) rather than 60)"
   ]
  },
  {
   "cell_type": "code",
   "execution_count": null,
   "id": "63cd2ab6-7768-4c29-8119-8b79db457327",
   "metadata": {},
   "outputs": [],
   "source": [
    "df['TERMINATIONID'].value_counts()"
   ]
  },
  {
   "cell_type": "code",
   "execution_count": null,
   "id": "4af2fc17-fd25-4304-811e-de82a71c9e72",
   "metadata": {},
   "outputs": [],
   "source": [
    "df.loc[(df['TERMINATIONID']==60),'TERMINATIONID'] = 1 #recoding successful(60) to be equal to 1\n",
    "df.loc[(df['TERMINATIONID']==61),'TERMINATIONID'] = 0 #recoding unsuccessful(61) to be equal to 0"
   ]
  },
  {
   "cell_type": "code",
   "execution_count": null,
   "id": "2e3fa9db-f09a-4186-8ce3-973dc22bab39",
   "metadata": {},
   "outputs": [],
   "source": [
    "df['TERMINATIONID'].value_counts()"
   ]
  },
  {
   "cell_type": "code",
   "execution_count": null,
   "id": "6580bc48-44f6-4626-bcae-0a7320977927",
   "metadata": {},
   "outputs": [],
   "source": [
    "df['SegmentStart']=pd.to_datetime(df.SegmentStart)\n",
    "df['SegmentEnd']=pd.to_datetime(df.SegmentEnd)\n",
    "df['length_of_segments']=df['SegmentEnd']-df['SegmentStart'] #added column for length of segment for further analysis\n",
    "df['length_of_segments']=df['length_of_segments'].dt.days.astype('int16')"
   ]
  },
  {
   "cell_type": "code",
   "execution_count": null,
   "id": "a422354f-3712-4714-a341-f54876673336",
   "metadata": {},
   "outputs": [],
   "source": [
    "df.info()"
   ]
  },
  {
   "cell_type": "code",
   "execution_count": null,
   "id": "2d7fb0eb-efdb-4f2a-b397-7d8ceadd32cb",
   "metadata": {},
   "outputs": [],
   "source": [
    "df2=df.drop_duplicates(['CASEID', 'SegmentStart', 'SegmentEnd', 'SUPERVISIONLEVELID']) #accounting for duplicate segments for each CASEID due to each bond condition having a row (CONDITIONID)\n",
    "df2.info()"
   ]
  },
  {
   "cell_type": "code",
   "execution_count": null,
   "id": "39e528c5-00e4-462d-bbee-cecc9010df33",
   "metadata": {},
   "outputs": [],
   "source": [
    "df2.head()"
   ]
  },
  {
   "cell_type": "code",
   "execution_count": null,
   "id": "089cc3e8-a5d8-457d-84c1-0f1398ccef42",
   "metadata": {},
   "outputs": [],
   "source": [
    "#grouping by CASEID and summing the length of segments so that segment length is summed by case\n",
    "df3=df2.groupby(['CASEID','STAYID', 'Age', 'RACE', 'ETHNICID', 'OSEX', 'CPATCATID', 'OFFENSECATID', 'TERMINATIONID', 'TERMREASONID']).agg({'length_of_segments':lambda x: x.sum()}).reset_index()\n"
   ]
  },
  {
   "cell_type": "code",
   "execution_count": null,
   "id": "c83a2cc3-ba06-4748-934a-e433b9ef4661",
   "metadata": {},
   "outputs": [],
   "source": [
    "df3.info()"
   ]
  },
  {
   "cell_type": "markdown",
   "id": "6f7c4d3e-a714-4157-b128-b7d49f2a4c46",
   "metadata": {},
   "source": [
    "### Observations\n",
    "\n",
    "+ there are no nan values for the columns I will use in data analysis\n",
    "+ all columns are categorical other than \"legnth_of_segment\" and \"Age\""
   ]
  },
  {
   "cell_type": "code",
   "execution_count": null,
   "id": "f327f035-a2a3-460d-9a40-93db90193532",
   "metadata": {},
   "outputs": [],
   "source": [
    "df3.head()"
   ]
  },
  {
   "cell_type": "code",
   "execution_count": null,
   "id": "26c08944-7756-4d20-858e-6356eeb1e865",
   "metadata": {},
   "outputs": [],
   "source": [
    "df3.tail()"
   ]
  },
  {
   "cell_type": "code",
   "execution_count": null,
   "id": "511b9dc5-2621-4481-9c3d-92edcee95000",
   "metadata": {},
   "outputs": [],
   "source": [
    "df3.describe()"
   ]
  },
  {
   "cell_type": "code",
   "execution_count": null,
   "id": "fabce005-420e-4a22-9944-fc96a39762b7",
   "metadata": {},
   "outputs": [],
   "source": [
    "df3[df3['length_of_segments']==1883.000000] #test to see if extreme value of 1883 is accurate"
   ]
  },
  {
   "cell_type": "code",
   "execution_count": null,
   "id": "b1cdcfff-41c4-4a0d-aa93-02cb78f09693",
   "metadata": {},
   "outputs": [],
   "source": [
    "df2[df2['CASEID']=='15M05929'] #test to see if extreme value of 1883 is accurate"
   ]
  },
  {
   "cell_type": "code",
   "execution_count": null,
   "id": "d7a72837-b9b2-46ea-919e-d2c321545235",
   "metadata": {},
   "outputs": [],
   "source": [
    "df3[df3['length_of_segments']<5]"
   ]
  },
  {
   "cell_type": "code",
   "execution_count": null,
   "id": "7df1c347-64b3-40f7-8d5d-8b86686ce7b3",
   "metadata": {},
   "outputs": [],
   "source": [
    "df3 = df3[df3['length_of_segments'] > 5] #dropped the rows with less than 5 for length of segments"
   ]
  },
  {
   "cell_type": "code",
   "execution_count": null,
   "id": "5eb6afed-db78-4e41-b23e-17f8a06c796c",
   "metadata": {},
   "outputs": [],
   "source": [
    "df3.describe()"
   ]
  },
  {
   "cell_type": "code",
   "execution_count": null,
   "id": "30618ee1-f404-4e20-b77b-91147187eb44",
   "metadata": {},
   "outputs": [],
   "source": [
    "df3.info()"
   ]
  },
  {
   "cell_type": "code",
   "execution_count": null,
   "id": "b9c96b55-2b48-41b8-afa1-851b1eb5ec52",
   "metadata": {},
   "outputs": [],
   "source": [
    "df3['TERMINATIONID'].value_counts()"
   ]
  },
  {
   "cell_type": "code",
   "execution_count": null,
   "id": "11f11dc3-63cc-499a-980b-87f5ba47078a",
   "metadata": {},
   "outputs": [],
   "source": [
    "df3.RACE.unique()"
   ]
  },
  {
   "cell_type": "code",
   "execution_count": null,
   "id": "21cd603e-b6fb-4594-9873-4a3a1f62ff76",
   "metadata": {},
   "outputs": [],
   "source": [
    "df3['RACE'].value_counts()"
   ]
  },
  {
   "cell_type": "code",
   "execution_count": null,
   "id": "6d9dcefb-14b2-4378-b020-2e2961b6dc22",
   "metadata": {},
   "outputs": [],
   "source": [
    "df3.ETHNICID.unique()"
   ]
  },
  {
   "cell_type": "code",
   "execution_count": null,
   "id": "4cbbe107-d1a3-4fcd-80b9-8ea4ddd09531",
   "metadata": {},
   "outputs": [],
   "source": [
    "df3['ETHNICID'].value_counts()"
   ]
  },
  {
   "cell_type": "code",
   "execution_count": null,
   "id": "9d7852be-b70a-43df-975a-93b727bb3a41",
   "metadata": {},
   "outputs": [],
   "source": [
    "df3.TERMINATIONID.unique()"
   ]
  },
  {
   "cell_type": "code",
   "execution_count": null,
   "id": "e101a068-242f-42db-97d5-b3f1398d2213",
   "metadata": {},
   "outputs": [],
   "source": [
    "df3.TERMREASONID.unique()"
   ]
  },
  {
   "cell_type": "code",
   "execution_count": null,
   "id": "4d4fe09c-772e-40f6-94c6-6ad3a0cfbbb3",
   "metadata": {},
   "outputs": [],
   "source": [
    "df3.OFFENSECATID.unique()"
   ]
  },
  {
   "cell_type": "code",
   "execution_count": null,
   "id": "e8b5056c-5e02-449e-a8cc-2cac008f757c",
   "metadata": {},
   "outputs": [],
   "source": [
    "df3['OFFENSECATID'].value_counts()"
   ]
  },
  {
   "cell_type": "code",
   "execution_count": null,
   "id": "88584241-40ab-4368-9c8d-8fbbadd3fcdf",
   "metadata": {},
   "outputs": [],
   "source": [
    "df3.CPATCATID.unique()"
   ]
  },
  {
   "cell_type": "code",
   "execution_count": null,
   "id": "fd68f891-f51d-4633-837e-a3f67da1e4f8",
   "metadata": {},
   "outputs": [],
   "source": [
    "%store df3"
   ]
  },
  {
   "cell_type": "markdown",
   "id": "5251f07f-6753-4840-bcf0-e81c9863d2ae",
   "metadata": {},
   "source": [
    "### Data Visualization"
   ]
  },
  {
   "cell_type": "code",
   "execution_count": null,
   "id": "e9c4b4db-9a97-4043-b862-e01f9692f033",
   "metadata": {},
   "outputs": [],
   "source": [
    "sns.heatmap(df3.isnull(),cbar=False,yticklabels=False,cmap = \"YlGnBu\") #checking visually for null values"
   ]
  },
  {
   "cell_type": "markdown",
   "id": "8ceb1d2d-aa11-4af6-9671-f71350c94749",
   "metadata": {},
   "source": [
    "+ There are no nans in the categories in the graph above\n",
    "+ I will not be using categories with nan values: ODARASCORE, NewChargesCat, NewChargesClass, CCNOTES, or MONITORTYPEID"
   ]
  },
  {
   "cell_type": "markdown",
   "id": "5d3b341f-991a-4e9b-8dbb-221c3b0fa760",
   "metadata": {},
   "source": [
    "### Age"
   ]
  },
  {
   "cell_type": "code",
   "execution_count": null,
   "id": "ee7ac31c-69b4-4784-85d6-b5dd1cd23646",
   "metadata": {},
   "outputs": [],
   "source": [
    "sns.scatterplot(x='Age', \n",
    "                y='TERMINATIONID',\n",
    "                data=df3, alpha=0.1)\n",
    "\n",
    "plt.title('Pretrial Services Success by Age')"
   ]
  },
  {
   "cell_type": "code",
   "execution_count": null,
   "id": "e053aa40-262b-461d-8290-57ad2d9f2c99",
   "metadata": {},
   "outputs": [],
   "source": [
    "fig, ax = plt.subplots()\n",
    "\n",
    "ax.hist(df3[df3['TERMINATIONID']==0][\"Age\"], bins=25, alpha=0.5, color=\"blue\", label=\"Unsuccessful\")\n",
    "ax.hist(df3[df3['TERMINATIONID']==1][\"Age\"], bins=25, alpha=0.25, color=\"green\", label=\"Successful\")\n",
    "\n",
    "ax.set_xlabel(\"Age\")\n",
    "ax.set_ylabel(\"Count\")\n",
    "\n",
    "fig.suptitle(\"Age vs. Pretrial Success\")\n",
    "\n",
    "ax.legend(title=\"Termination Type\")\n",
    "\n",
    "ax.figure.savefig('EDA_images/Age_EDA.png',bbox_inches='tight');\n"
   ]
  },
  {
   "cell_type": "markdown",
   "id": "aeb82d9f-101a-459d-96d4-4529e798b990",
   "metadata": {},
   "source": [
    "### Gender"
   ]
  },
  {
   "cell_type": "code",
   "execution_count": null,
   "id": "708cd7a4-6cde-4034-a295-a8bccb0f6ee1",
   "metadata": {},
   "outputs": [],
   "source": [
    "ax = sns.countplot(x=\"OSEX\", hue=\"TERMINATIONID\", data=df3, palette='Paired', saturation=1.5)\n",
    "ax.legend(title=\"Termination Type\", labels=[\"Unsuccessful\", \"Successful\"])\n",
    "ax.set_xticklabels([\"Male\", \"Female\"])\n",
    "\n",
    "\n",
    "ax.set(xlabel='Gender')\n",
    "\n",
    "ax.set_title(\"Gender vs. Pretrial Success\")\n",
    "ax.figure.savefig('EDA_images/Gender_EDA.png',bbox_inches='tight')"
   ]
  },
  {
   "cell_type": "markdown",
   "id": "a3bae7ad-5573-49ff-a061-baef156f9fb6",
   "metadata": {},
   "source": [
    "### Race"
   ]
  },
  {
   "cell_type": "code",
   "execution_count": null,
   "id": "bcac4275-65b3-42b9-bf0a-802a1766b389",
   "metadata": {},
   "outputs": [],
   "source": [
    "ax = sns.countplot(x=\"RACE\", hue=\"TERMINATIONID\", data=df3)\n",
    "\n",
    "fig.suptitle(\"Race vs. Pretrial Success\")"
   ]
  },
  {
   "cell_type": "markdown",
   "id": "3f383bb9-568e-4dae-8153-f6f4b31fa9ca",
   "metadata": {},
   "source": [
    "### Ethnicity"
   ]
  },
  {
   "cell_type": "code",
   "execution_count": null,
   "id": "0da30cb0-9063-4603-b114-7649fce4ba2b",
   "metadata": {},
   "outputs": [],
   "source": [
    "ax = sns.countplot(x=\"ETHNICID\", hue=\"TERMINATIONID\", data=df3, palette='Paired', saturation=1.5)\n",
    "ax.set_xticklabels([\"Not-Hispanic\", \"Hispanic\", \"Unknown\"])\n",
    "ax.set(xlabel='Termination Type')\n",
    "ax.legend(['Unsuccessful','Successful'],  \n",
    "          title='Termination Type')\n",
    "ax.set_title(\"Ethnicity vs. Pretrial Success\")\n",
    "ax.figure.savefig('EDA_images/Ethnicity_EDA.png', bbox_inches='tight')"
   ]
  },
  {
   "cell_type": "markdown",
   "id": "86ab5be0-ea20-40e3-8797-e1145770ab6f",
   "metadata": {},
   "source": [
    "### Offense Category"
   ]
  },
  {
   "cell_type": "code",
   "execution_count": null,
   "id": "119cb6af-ad71-4a7b-8add-12df09da0df2",
   "metadata": {},
   "outputs": [],
   "source": [
    "ax = sns.countplot(x=\"OFFENSECATID\", hue=\"TERMINATIONID\", data=df3)\n",
    "\n",
    "fig.suptitle(\"Offense Category vs. Pretrial Success\")"
   ]
  },
  {
   "cell_type": "markdown",
   "id": "ff4170fc-4692-493b-946c-b58a63a61add",
   "metadata": {},
   "source": [
    "### Supervision Level"
   ]
  },
  {
   "cell_type": "code",
   "execution_count": null,
   "id": "80c0b308-451f-4163-9505-ffe616835022",
   "metadata": {},
   "outputs": [],
   "source": [
    "ax = sns.countplot(x=\"SUPERVISIONLEVELID\", hue=\"TERMINATIONID\", data=df2)\n",
    "\n",
    "\n",
    "fig.suptitle(\"Supervision Level vs. Pretrial Success\")"
   ]
  },
  {
   "cell_type": "markdown",
   "id": "cd06fa1e-3489-407a-aaaf-b927434454e5",
   "metadata": {},
   "source": [
    "### Length of Supervision"
   ]
  },
  {
   "cell_type": "code",
   "execution_count": null,
   "id": "7b810341-4112-4d58-bdfa-3b4ed00b0141",
   "metadata": {},
   "outputs": [],
   "source": [
    "fig, ax = plt.subplots()\n",
    "\n",
    "ax.hist(df3[df3['TERMINATIONID']==0][\"length_of_segments\"], bins=300, alpha=0.5, color=\"blue\", label=\"Unsuccessful\")\n",
    "ax.hist(df3[df3['TERMINATIONID']==1][\"length_of_segments\"], bins=300, alpha=0.25, color=\"green\", label=\"Successful\")\n",
    "\n",
    "ax.set_xlim(0,400)\n",
    "ax.set_xlabel(\"Days\")\n",
    "ax.set_ylabel(\"Count\")\n",
    "ax.legend(title=\"Termination Type\")\n",
    "\n",
    "fig.suptitle(\"Length of Supervision vs. Pretrial Success\")\n",
    "ax.figure.savefig('EDA_images/Length_EDA.png', bbox_inches='tight');"
   ]
  },
  {
   "cell_type": "markdown",
   "id": "23841bd6-854b-4f2e-ae48-9e06e86a973e",
   "metadata": {},
   "source": [
    "### Risk Level"
   ]
  },
  {
   "cell_type": "code",
   "execution_count": null,
   "id": "7c76acd3-661e-4521-8d17-1909bc81232a",
   "metadata": {},
   "outputs": [],
   "source": [
    "ax = sns.countplot(x=\"CPATCATID\", hue=\"TERMINATIONID\", data=df3)\n",
    "\n",
    "fig.suptitle(\"Risk Level vs. Pretrial Success\")"
   ]
  },
  {
   "cell_type": "code",
   "execution_count": null,
   "id": "42663b24-e0a0-425a-9bbe-9a75172139ff",
   "metadata": {},
   "outputs": [],
   "source": [
    "g = sns.catplot(x=\"CPATCATID\", hue=\"TERMINATIONID\", col=\"OSEX\",\n",
    "                data=df3, kind=\"count\",\n",
    "                height=4, aspect=.7, order=['C1','C2','C3', 'C4']);\n",
    "ax.legend(title=\"Risk Level\")"
   ]
  },
  {
   "cell_type": "markdown",
   "id": "7a83feaa-bef7-49db-9bbf-52bb61a629b6",
   "metadata": {},
   "source": [
    "### Hypotheses to test based on EDA"
   ]
  },
  {
   "cell_type": "markdown",
   "id": "e632ff54-31ff-4c3c-93b1-933ef3e563fe",
   "metadata": {},
   "source": [
    "Age <br>\n",
    "* $H_0$: Successful and unsuccessful groups do not vary by age.<br>\n",
    "* $H_a$: Successful and unsuccessful groups do vary by age.<br>\n",
    "alpha=0.05<br>\n",
    "statistical test=Mann–Whitney U test<br>\n",
    "bonferoni correction-look into and possibly modify alpha value"
   ]
  },
  {
   "cell_type": "markdown",
   "id": "6a14f94c-8a3f-4959-b05f-6b36011291c1",
   "metadata": {},
   "source": [
    "Gender <br>\n",
    "* $H_0$: Pretrial services success and gender are independent.<br>\n",
    "* $H_a$: Pretrial services success and gender are not independent.<br>\n",
    "alpha=0.05<br>\n",
    "statistical test=chi-squared test of independence<br>"
   ]
  },
  {
   "cell_type": "markdown",
   "id": "9f7f1459-0a75-40b6-bc89-9135582ed032",
   "metadata": {},
   "source": [
    "Race <br>\n",
    "Null Hypothesis:Pretrial services success rates do not vary by race.<br>\n",
    "Alternate Hypothesis: Pretrial services success rates do vary by race.<br>\n",
    "alpha=0.05<br>\n",
    "statistical test=chi-squared test of independence<br>"
   ]
  },
  {
   "cell_type": "markdown",
   "id": "27e2b3bd-c403-4572-9a6e-eacd25aa1466",
   "metadata": {},
   "source": [
    "Ethnicity <br>\n",
    "* $H_0$: Pretrial services success and ethnicity are independent.<br>\n",
    "* $H_a$: Pretrial services success and ethnicity are not independent.<br>\n",
    "alpha=0.05<br>\n",
    "statistical test=chi-squared test of independence<br>"
   ]
  },
  {
   "cell_type": "markdown",
   "id": "28447804-d039-48e0-8700-ba43797830f7",
   "metadata": {},
   "source": [
    "Offense Category <br>\n",
    "Null Hypothesis:Pretrial services success rates do not vary by offense type.<br>\n",
    "Alternate Hypothesis: Pretrial services success rates do vary by offense type.<br>\n",
    "alpha=0.05<br>\n",
    "statistical test=chi-squared test of independence<br>"
   ]
  },
  {
   "cell_type": "markdown",
   "id": "e8526648-5234-43d7-8b5c-89d53affbd33",
   "metadata": {},
   "source": [
    "Length of Supervision <br>\n",
    "* $H_0$: Successful and unsuccessful groups do not vary by length of supervision.<br>\n",
    "* $H_a$: Successful and unsuccessful groups do vary by length of supervision.<br>\n",
    "alpha=0.05<br>\n",
    "statistical test=Mann–Whitney U test<br>\n"
   ]
  },
  {
   "cell_type": "markdown",
   "id": "df07b697-40a1-4496-9217-9e39477cbd54",
   "metadata": {},
   "source": [
    "Risk Category <br>\n",
    "Null Hypothesis:Pretrial services success rates do vary by risk category.<br>\n",
    "Alternate Hypothesis: Pretrial services success rates do not vary by risk category.<br>\n",
    "alpha=0.05<br>\n",
    "statistical test=chi-squared test of independence<br>"
   ]
  },
  {
   "cell_type": "code",
   "execution_count": null,
   "id": "b9d56d80-93ff-4846-bf9f-8cb0583c11e3",
   "metadata": {},
   "outputs": [],
   "source": []
  }
 ],
 "metadata": {
  "kernelspec": {
   "display_name": "Python 3",
   "language": "python",
   "name": "python3"
  },
  "language_info": {
   "codemirror_mode": {
    "name": "ipython",
    "version": 3
   },
   "file_extension": ".py",
   "mimetype": "text/x-python",
   "name": "python",
   "nbconvert_exporter": "python",
   "pygments_lexer": "ipython3",
   "version": "3.8.5"
  }
 },
 "nbformat": 4,
 "nbformat_minor": 5
}
