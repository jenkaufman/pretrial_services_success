{
 "cells": [
  {
   "cell_type": "code",
   "execution_count": null,
   "id": "8d6f558d-088b-46f3-a8b7-5d6d7dac817e",
   "metadata": {},
   "outputs": [],
   "source": [
    "import pandas as pd\n",
    "import matplotlib.pyplot as plt\n",
    "import numpy as np\n",
    "import scipy.stats as stats\n",
    "import seaborn as sns\n",
    "from IPython.display import display\n",
    "\n",
    "%matplotlib inline\n",
    "plt.style.use('ggplot')"
   ]
  },
  {
   "cell_type": "code",
   "execution_count": null,
   "id": "a0f6cd21-e0ec-4bfc-8cc7-865926ff0bfe",
   "metadata": {},
   "outputs": [],
   "source": [
    "print('helloworld')"
   ]
  },
  {
   "cell_type": "code",
   "execution_count": null,
   "id": "ce70f549-acb9-4df8-802a-0033a8c7ad99",
   "metadata": {},
   "outputs": [],
   "source": [
    "df = pd.read_csv('/Users/jenniferkaufman/Desktop/dsi_galvanize/capstones/capstone1/pretrial_services_success/ahAC21Q3.csv')"
   ]
  },
  {
   "cell_type": "code",
   "execution_count": null,
   "id": "9eb604ad-b67a-4cef-bb69-0e380493566d",
   "metadata": {},
   "outputs": [],
   "source": [
    "pd.options.display.max_columns = None\n",
    "df.head()\n"
   ]
  },
  {
   "cell_type": "code",
   "execution_count": null,
   "id": "c7aa1a91-a05b-4a05-9aad-238793c5ba4f",
   "metadata": {},
   "outputs": [],
   "source": [
    "df['SegmentStart'] = pd.to_datetime(df['SegmentStart'])\n",
    "df['SegmentEnd'] = pd.to_datetime(df['SegmentEnd'])\n",
    "df['length_of_segment']=df['SegmentEnd']-df['SegmentStart'] #added column for length of segment for further analysis"
   ]
  },
  {
   "cell_type": "code",
   "execution_count": null,
   "id": "edf0613b-4c74-447d-aa13-a4991917f73b",
   "metadata": {},
   "outputs": [],
   "source": [
    "len(df.CASEID.unique())"
   ]
  },
  {
   "cell_type": "code",
   "execution_count": null,
   "id": "089cc3e8-a5d8-457d-84c1-0f1398ccef42",
   "metadata": {},
   "outputs": [],
   "source": [
    "df2=df.groupby(['CASEID','STAYID', 'Age', 'RACE', 'ETHNICID', 'OSEX', 'CPATCATID', 'PrimaryOffense', 'OFFENSECATID', 'TERMINATIONID', 'TERMREASONID', 'SUPERVISIONLEVELID']).agg({'length_of_segment':lambda x: x.sum()}).reset_index()\n"
   ]
  },
  {
   "cell_type": "code",
   "execution_count": null,
   "id": "c83a2cc3-ba06-4748-934a-e433b9ef4661",
   "metadata": {},
   "outputs": [],
   "source": [
    "df2.info()"
   ]
  },
  {
   "cell_type": "code",
   "execution_count": null,
   "id": "e32fcef2-6191-456b-a3eb-7961dc16bca0",
   "metadata": {},
   "outputs": [],
   "source": [
    "df2.describe()"
   ]
  },
  {
   "cell_type": "markdown",
   "id": "2d5c3660-cd0d-4fd2-a10a-1d048ea890b6",
   "metadata": {},
   "source": [
    "### Observations\n",
    "\n",
    "+ there are minimul nan values for the columns I will use in data analysis\n",
    "+ there is a row where age=0\n",
    "+ all columns are categorical other than \"legnth_of_segment\" and \"Age\""
   ]
  },
  {
   "cell_type": "code",
   "execution_count": null,
   "id": "ac134e17-16a6-4bd8-b571-2c09ac1f1e7b",
   "metadata": {},
   "outputs": [],
   "source": [
    "df2.Age.unique()"
   ]
  },
  {
   "cell_type": "code",
   "execution_count": null,
   "id": "cd717f0b-2ef8-4b71-ac58-f399a8b82857",
   "metadata": {},
   "outputs": [],
   "source": [
    "df2 = df2[df2['Age'] != 0.] #dropped the row with 0 for age"
   ]
  },
  {
   "cell_type": "code",
   "execution_count": null,
   "id": "9cc380cb-2be7-4580-a0c6-9c6ac1077ed0",
   "metadata": {},
   "outputs": [],
   "source": [
    "df2.Age.unique()"
   ]
  },
  {
   "cell_type": "code",
   "execution_count": null,
   "id": "7037f2b3-ddab-4074-b39b-2436a3a33551",
   "metadata": {},
   "outputs": [],
   "source": [
    "df2.TERMINATIONID==61"
   ]
  },
  {
   "cell_type": "code",
   "execution_count": null,
   "id": "8ae65b98-61f6-49e5-ade0-e97a41e63276",
   "metadata": {},
   "outputs": [],
   "source": [
    "#df3=df2['TERMINATIONID'] =np.where((df2.TERMREASONID=='NC'), 61, df2.TERMINATIONID)\n",
    "#df3=df2['TERMINATIONID'].where(~(df2.TERMREASONID=='NC'), 61, inplace=True)\n",
    "#DataFrame['column_name'].where(~(condition), other=new_value, inplace=True)"
   ]
  },
  {
   "cell_type": "code",
   "execution_count": null,
   "id": "11f11dc3-63cc-499a-980b-87f5ba47078a",
   "metadata": {},
   "outputs": [],
   "source": [
    "df2.RACE.unique()"
   ]
  },
  {
   "cell_type": "code",
   "execution_count": null,
   "id": "6d9dcefb-14b2-4378-b020-2e2961b6dc22",
   "metadata": {},
   "outputs": [],
   "source": [
    "df2.ETHNICID.unique()"
   ]
  },
  {
   "cell_type": "code",
   "execution_count": null,
   "id": "9d7852be-b70a-43df-975a-93b727bb3a41",
   "metadata": {},
   "outputs": [],
   "source": [
    "df2.TERMINATIONID.unique()"
   ]
  },
  {
   "cell_type": "code",
   "execution_count": null,
   "id": "e101a068-242f-42db-97d5-b3f1398d2213",
   "metadata": {},
   "outputs": [],
   "source": [
    "df2.TERMREASONID.unique()"
   ]
  },
  {
   "cell_type": "code",
   "execution_count": null,
   "id": "4d4fe09c-772e-40f6-94c6-6ad3a0cfbbb3",
   "metadata": {},
   "outputs": [],
   "source": [
    "df2.OFFENSECATID.unique()"
   ]
  },
  {
   "cell_type": "code",
   "execution_count": null,
   "id": "1eb3adb6-8433-495f-a6dd-76f667930aac",
   "metadata": {},
   "outputs": [],
   "source": [
    "df2.SUPERVISIONLEVELID.unique()"
   ]
  },
  {
   "cell_type": "code",
   "execution_count": null,
   "id": "88584241-40ab-4368-9c8d-8fbbadd3fcdf",
   "metadata": {},
   "outputs": [],
   "source": [
    "df2.CPATCATID.unique()"
   ]
  },
  {
   "cell_type": "markdown",
   "id": "5251f07f-6753-4840-bcf0-e81c9863d2ae",
   "metadata": {},
   "source": [
    "### Data Visualization"
   ]
  },
  {
   "cell_type": "code",
   "execution_count": null,
   "id": "206834ae-a917-45df-8d02-f56b8626c89a",
   "metadata": {},
   "outputs": [],
   "source": [
    "#research applying numeric data to categorical items"
   ]
  },
  {
   "cell_type": "code",
   "execution_count": null,
   "id": "e9c4b4db-9a97-4043-b862-e01f9692f033",
   "metadata": {},
   "outputs": [],
   "source": [
    "sns.heatmap(df2.isnull(),cbar=False,yticklabels=False,cmap = \"YlGnBu\") #checking visually for null values"
   ]
  },
  {
   "cell_type": "markdown",
   "id": "8ceb1d2d-aa11-4af6-9671-f71350c94749",
   "metadata": {},
   "source": [
    "+ I will not be using categories with nan values: ODARASCORE, NewChargesCat, NewChargesClass, CCNOTES, or MONITORTYPEID"
   ]
  },
  {
   "cell_type": "code",
   "execution_count": null,
   "id": "ee7ac31c-69b4-4784-85d6-b5dd1cd23646",
   "metadata": {},
   "outputs": [],
   "source": [
    "sns.scatterplot(x='Age', \n",
    "                y='TERMINATIONID',\n",
    "                data=df2, alpha=0.1)\n",
    "\n",
    "plt.title('Pretrial Services Success by Age')"
   ]
  },
  {
   "cell_type": "code",
   "execution_count": null,
   "id": "e053aa40-262b-461d-8290-57ad2d9f2c99",
   "metadata": {},
   "outputs": [],
   "source": [
    "fig, ax = plt.subplots()\n",
    "\n",
    "ax.hist(df2[df2['TERMINATIONID']==61][\"Age\"], bins=15, alpha=0.5, color=\"blue\", label=\"unsuccessful\")\n",
    "ax.hist(df2[df2['TERMINATIONID']==60][\"Age\"], bins=15, alpha=0.5, color=\"green\", label=\"successful\")\n",
    "\n",
    "ax.set_xlabel(\"Age\")\n",
    "ax.set_ylabel(\"Count\")\n",
    "\n",
    "fig.suptitle(\"Age vs. Pretrial Success\")\n",
    "\n",
    "ax.legend();"
   ]
  },
  {
   "cell_type": "code",
   "execution_count": null,
   "id": "708cd7a4-6cde-4034-a295-a8bccb0f6ee1",
   "metadata": {},
   "outputs": [],
   "source": [
    "ax = sns.countplot(x=\"TERMINATIONID\", hue=\"OSEX\", data=df2)\n",
    "ax.legend(title=\"Gender\")\n",
    "ax.set_xticklabels([\"Successful\", \"Unsuccessful\"])\n",
    "\n",
    "\n",
    "fig.suptitle(\"Gender vs. Pretrial Success\")"
   ]
  },
  {
   "cell_type": "markdown",
   "id": "e632ff54-31ff-4c3c-93b1-933ef3e563fe",
   "metadata": {},
   "source": [
    "Age <br>\n",
    "Null Hypothesis:Pretrial services success rates do not vary by age.<br>\n",
    "Alternate Hypothesis: Pretrial services success rates do vary by age.<br>\n",
    "alpha=0.05<br>\n",
    "statistical test=Pearson's chi-squared test ( χ2) ?<br>"
   ]
  },
  {
   "cell_type": "markdown",
   "id": "6a14f94c-8a3f-4959-b05f-6b36011291c1",
   "metadata": {},
   "source": [
    "Gender <br>\n",
    "Null Hypothesis:Pretrial services success rates do not vary by gender.<br>\n",
    "Alternate Hypothesis: Pretrial services success rates do vary by gender.<br>\n",
    "alpha=0.05<br>\n",
    "statistical test=<br>"
   ]
  },
  {
   "cell_type": "markdown",
   "id": "9f7f1459-0a75-40b6-bc89-9135582ed032",
   "metadata": {},
   "source": [
    "Race <br>\n",
    "Null Hypothesis:Pretrial services success rates do not vary by race.<br>\n",
    "Alternate Hypothesis: Pretrial services success rates do vary by race.<br>\n",
    "alpha=0.05<br>\n",
    "statistical test=<br>"
   ]
  },
  {
   "cell_type": "markdown",
   "id": "27e2b3bd-c403-4572-9a6e-eacd25aa1466",
   "metadata": {},
   "source": [
    "Ethnicity <br>\n",
    "Null Hypothesis:Pretrial services success rates do not vary by ethnicity.<br>\n",
    "Alternate Hypothesis: Pretrial services success rates do vary by ethnicity.<br>\n",
    "alpha=0.05<br>\n",
    "statistical test=<br>"
   ]
  },
  {
   "cell_type": "markdown",
   "id": "28447804-d039-48e0-8700-ba43797830f7",
   "metadata": {},
   "source": [
    "Offense Category <br>\n",
    "Null Hypothesis:Pretrial services success rates do not vary by offense type.<br>\n",
    "Alternate Hypothesis: Pretrial services success rates do vary by offense type.<br>\n",
    "alpha=0.05<br>\n",
    "statistical test=<br>"
   ]
  },
  {
   "cell_type": "markdown",
   "id": "6a37ed57-7468-4120-a6f8-21f30f6c6281",
   "metadata": {},
   "source": [
    "Supservision Level <br>\n",
    "Null Hypothesis:Pretrial services success rates do not vary by supervision level.<br>\n",
    "Alternate Hypothesis: Pretrial services success rates do vary by supervision level.<br>\n",
    "alpha=0.05<br>\n",
    "statistical test=<br>"
   ]
  },
  {
   "cell_type": "markdown",
   "id": "e8526648-5234-43d7-8b5c-89d53affbd33",
   "metadata": {},
   "source": [
    "Length of Supervision <br>\n",
    "Null Hypothesis:Pretrial services success rates do not vary by length of supervision.<br>\n",
    "Alternate Hypothesis: Pretrial services success rates do vary by length of supervision.<br>\n",
    "alpha=0.05<br>\n",
    "statistical test=<br>"
   ]
  },
  {
   "cell_type": "markdown",
   "id": "df07b697-40a1-4496-9217-9e39477cbd54",
   "metadata": {},
   "source": [
    "Risk Category <br>\n",
    "Null Hypothesis:Pretrial services success rates do vary by risk category.<br>\n",
    "Alternate Hypothesis: Pretrial services success rates do not vary by risk category.<br>\n",
    "alpha=0.05<br>\n",
    "statistical test=<br>"
   ]
  },
  {
   "cell_type": "code",
   "execution_count": null,
   "id": "b9d56d80-93ff-4846-bf9f-8cb0583c11e3",
   "metadata": {},
   "outputs": [],
   "source": []
  }
 ],
 "metadata": {
  "kernelspec": {
   "display_name": "Python 3",
   "language": "python",
   "name": "python3"
  },
  "language_info": {
   "codemirror_mode": {
    "name": "ipython",
    "version": 3
   },
   "file_extension": ".py",
   "mimetype": "text/x-python",
   "name": "python",
   "nbconvert_exporter": "python",
   "pygments_lexer": "ipython3",
   "version": "3.8.5"
  }
 },
 "nbformat": 4,
 "nbformat_minor": 5
}
