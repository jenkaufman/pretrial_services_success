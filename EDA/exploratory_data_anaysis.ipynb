{
 "cells": [
  {
   "cell_type": "code",
   "execution_count": null,
   "id": "8d6f558d-088b-46f3-a8b7-5d6d7dac817e",
   "metadata": {},
   "outputs": [],
   "source": [
    "import pandas as pd\n",
    "import matplotlib.pyplot as plt\n",
    "import numpy as np\n",
    "import scipy.stats as stats\n",
    "\n",
    "%matplotlib inline\n",
    "plt.style.use('ggplot')"
   ]
  },
  {
   "cell_type": "code",
   "execution_count": null,
   "id": "ce70f549-acb9-4df8-802a-0033a8c7ad99",
   "metadata": {},
   "outputs": [],
   "source": [
    "df = pd.read_csv('/Users/jenniferkaufman/Desktop/dsi_galvanize/capstones/capstone1/pretrial_services_success/ahAC21Q3.csv')"
   ]
  },
  {
   "cell_type": "code",
   "execution_count": null,
   "id": "b9db069a-1bfa-4507-9256-8cf3b1730b85",
   "metadata": {},
   "outputs": [],
   "source": [
    "df.head()"
   ]
  },
  {
   "cell_type": "code",
   "execution_count": null,
   "id": "c7aa1a91-a05b-4a05-9aad-238793c5ba4f",
   "metadata": {},
   "outputs": [],
   "source": [
    "df['CaseStart'] = pd.to_datetime(df['CaseStart'])\n",
    "df['CaseEnd'] = pd.to_datetime(df['CaseEnd'])\n",
    "df['length_of_supervision']=df['CaseEnd']-df['CaseStart'] #added column for length of supervision for further analysis"
   ]
  },
  {
   "cell_type": "code",
   "execution_count": null,
   "id": "e62f978f-95fe-41ae-95a4-8ad338d333dc",
   "metadata": {},
   "outputs": [],
   "source": [
    "collapsed_df= df.drop_duplicates(subset=['STAYID']) # dropped duplicates because each STAYID had multiple supervision level ids\n",
    "collapsed_df"
   ]
  },
  {
   "cell_type": "code",
   "execution_count": null,
   "id": "230213f2-9409-43e1-acba-0d5cbb3bb6c9",
   "metadata": {},
   "outputs": [],
   "source": [
    "collapsed_df.info()"
   ]
  },
  {
   "cell_type": "code",
   "execution_count": null,
   "id": "3c101426-24eb-4617-96d1-da9641877632",
   "metadata": {},
   "outputs": [],
   "source": [
    "collapsed_df.describe()"
   ]
  },
  {
   "cell_type": "markdown",
   "id": "e632ff54-31ff-4c3c-93b1-933ef3e563fe",
   "metadata": {},
   "source": [
    "Age <br>\n",
    "Null Hypothesis:Pretrial services success rates do not vary by age.<br>\n",
    "Alternate Hypothesis: Pretrial services success rates do vary by age.<br>\n",
    "alpha=0.05<br>\n",
    "statistical test=Pearson's chi-squared test ( χ2) ?<br>"
   ]
  },
  {
   "cell_type": "markdown",
   "id": "6a14f94c-8a3f-4959-b05f-6b36011291c1",
   "metadata": {},
   "source": [
    "Gender <br>\n",
    "Null Hypothesis:Pretrial services success rates do not vary by gender.<br>\n",
    "Alternate Hypothesis: Pretrial services success rates do vary by gender.<br>\n",
    "alpha=0.05<br>\n",
    "statistical test=<br>"
   ]
  },
  {
   "cell_type": "markdown",
   "id": "9f7f1459-0a75-40b6-bc89-9135582ed032",
   "metadata": {},
   "source": [
    "Race <br>\n",
    "Null Hypothesis:Pretrial services success rates do not vary by race.<br>\n",
    "Alternate Hypothesis: Pretrial services success rates do vary by race.<br>\n",
    "alpha=0.05<br>\n",
    "statistical test=<br>"
   ]
  },
  {
   "cell_type": "markdown",
   "id": "27e2b3bd-c403-4572-9a6e-eacd25aa1466",
   "metadata": {},
   "source": [
    "Ethnicity <br>\n",
    "Null Hypothesis:Pretrial services success rates do not vary by ethnicity.<br>\n",
    "Alternate Hypothesis: Pretrial services success rates do vary by ethnicity.<br>\n",
    "alpha=0.05<br>\n",
    "statistical test=<br>"
   ]
  },
  {
   "cell_type": "markdown",
   "id": "28447804-d039-48e0-8700-ba43797830f7",
   "metadata": {},
   "source": [
    "Offense Type <br>\n",
    "Null Hypothesis:Pretrial services success rates do not vary by offense type.<br>\n",
    "Alternate Hypothesis: Pretrial services success rates do vary by offense type.<br>\n",
    "alpha=0.05<br>\n",
    "statistical test=<br>"
   ]
  },
  {
   "cell_type": "markdown",
   "id": "6a37ed57-7468-4120-a6f8-21f30f6c6281",
   "metadata": {},
   "source": [
    "Monitoring Type <br>\n",
    "Null Hypothesis:Pretrial services success rates do not vary by monitoring type.<br>\n",
    "Alternate Hypothesis: Pretrial services success rates do vary by monitoring type.<br>\n",
    "alpha=0.05<br>\n",
    "statistical test=<br>"
   ]
  },
  {
   "cell_type": "markdown",
   "id": "e8526648-5234-43d7-8b5c-89d53affbd33",
   "metadata": {},
   "source": [
    "Length of Supervision <br>\n",
    "Null Hypothesis:Pretrial services success rates do not vary by length of supervision.<br>\n",
    "Alternate Hypothesis: Pretrial services success rates do vary by length of supervision.<br>\n",
    "alpha=0.05<br>\n",
    "statistical test=<br>"
   ]
  },
  {
   "cell_type": "markdown",
   "id": "df07b697-40a1-4496-9217-9e39477cbd54",
   "metadata": {},
   "source": [
    "Risk Category <br>\n",
    "Null Hypothesis:Pretrial services success rates do vary by risk category.<br>\n",
    "Alternate Hypothesis: Pretrial services success rates do not vary by risk category.<br>\n",
    "alpha=0.05<br>\n",
    "statistical test=<br>"
   ]
  },
  {
   "cell_type": "code",
   "execution_count": null,
   "id": "b9d56d80-93ff-4846-bf9f-8cb0583c11e3",
   "metadata": {},
   "outputs": [],
   "source": []
  }
 ],
 "metadata": {
  "kernelspec": {
   "display_name": "Python 3",
   "language": "python",
   "name": "python3"
  },
  "language_info": {
   "codemirror_mode": {
    "name": "ipython",
    "version": 3
   },
   "file_extension": ".py",
   "mimetype": "text/x-python",
   "name": "python",
   "nbconvert_exporter": "python",
   "pygments_lexer": "ipython3",
   "version": "3.8.5"
  }
 },
 "nbformat": 4,
 "nbformat_minor": 5
}
