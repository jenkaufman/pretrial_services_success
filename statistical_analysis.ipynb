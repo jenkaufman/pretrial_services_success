{
 "cells": [
  {
   "cell_type": "code",
   "execution_count": null,
   "id": "1a61b65e-29c1-445a-9bd8-3bc1c1031d47",
   "metadata": {},
   "outputs": [],
   "source": [
    "import pandas as pd\n",
    "import numpy as np\n",
    "import matplotlib.pyplot as plt\n",
    "import scipy.stats as stats\n",
    "\n",
    "\n",
    "plt.style.use('ggplot')\n",
    "plt.rcParams.update({'font.size': 13})"
   ]
  },
  {
   "cell_type": "code",
   "execution_count": null,
   "id": "f5cc72c5-deaf-46fd-bfbc-e451cda2e3a8",
   "metadata": {},
   "outputs": [],
   "source": [
    "%store -r df3"
   ]
  },
  {
   "cell_type": "code",
   "execution_count": null,
   "id": "4a7a40bb-700a-4029-b438-0018602794a6",
   "metadata": {},
   "outputs": [],
   "source": [
    "import sys\n",
    "import src.analysis as an\n"
   ]
  },
  {
   "cell_type": "markdown",
   "id": "583406c7-da9d-440f-92d9-f05b1a75acb0",
   "metadata": {},
   "source": [
    "### Confidence Intervals and p-values"
   ]
  },
  {
   "cell_type": "code",
   "execution_count": null,
   "id": "b026fc3e-01ea-4661-a59c-dc6bf7369913",
   "metadata": {},
   "outputs": [],
   "source": [
    "# df3['age_groups'] = pd.cut(df3.Age, \n",
    "#                                      [13, 18, 24, 34, 44, 54, 64, 90], \n",
    "#                                      include_lowest=True)\n",
    "# age=an.identify_n_p_variable(df3,'age_groups')\n",
    "# for i in age:\n",
    "#     an.find_confidence_intervals_binomial(i[0], i[1], i[2])"
   ]
  },
  {
   "cell_type": "code",
   "execution_count": null,
   "id": "12699eb3-5ea3-41a2-81cb-b453863b5bf5",
   "metadata": {},
   "outputs": [],
   "source": [
    "df3['length_groups']=pd.cut(df3.length_of_segments, \n",
    "                            [0, 1, 30, 100, 200, 400, 800, 1600], \n",
    "                                     include_lowest=True)\n",
    "df3.value_counts('length_groups')\n",
    "\n",
    "# length=an.identify_n_p_variable(df3, 'length_groups')\n",
    "# for i in length:\n",
    "#     an.find_confidence_intervals_binomial(i[0], i[1], i[2])"
   ]
  },
  {
   "cell_type": "code",
   "execution_count": null,
   "id": "7dffcd0f-dec0-4867-af71-498db9c35570",
   "metadata": {},
   "outputs": [],
   "source": [
    "x=df3.groupby('TERMINATIONID').agg({'length_of_segments':lambda x:x.mean(), 'TERMINATIONID':lambda x:x.value_counts()})\n",
    "x=x.rename(columns={'TERMINATIONID':'count'})\n",
    "x=x.reset_index()\n",
    "\n",
    "y=df3.groupby('TERMINATIONID').agg({'Age':lambda x:x.mean(), 'TERMINATIONID':lambda x:x.value_counts()})\n",
    "y=y.rename(columns={'TERMINATIONID':'count'})\n",
    "y=y.reset_index()\n",
    "\n",
    "x,y"
   ]
  },
  {
   "cell_type": "code",
   "execution_count": null,
   "id": "f2268b3e-5489-4260-ac61-e7bba5c1d759",
   "metadata": {},
   "outputs": [],
   "source": [
    "gender=an.identify_n_p_variable(df3,'OSEX')\n",
    "for i in gender:\n",
    "    an.find_confidence_intervals_binomial(i[0], i[1], i[2])"
   ]
  },
  {
   "cell_type": "code",
   "execution_count": null,
   "id": "252b24c3-b746-416b-872b-87226f04dbfe",
   "metadata": {},
   "outputs": [],
   "source": [
    "female = df3[df3['OSEX']=='F']\n",
    "male = df3[df3['OSEX']=='M']\n",
    "\n",
    "print(\"Student's t-test:\")\n",
    "print(stats.ttest_ind(female['TERMINATIONID'], male['TERMINATIONID']))"
   ]
  },
  {
   "cell_type": "code",
   "execution_count": null,
   "id": "f5f86c26-df06-43c0-bc79-cbde3121fb8e",
   "metadata": {},
   "outputs": [],
   "source": [
    "race=an.identify_n_p_variable(df3,'RACE')\n",
    "for i in race:\n",
    "    an.find_confidence_intervals_binomial(i[0], i[1], i[2])"
   ]
  },
  {
   "cell_type": "code",
   "execution_count": null,
   "id": "03f1cc0c-df89-4386-9f2e-8aa82ed4ab68",
   "metadata": {},
   "outputs": [],
   "source": [
    "ethnicity=an.identify_n_p_variable(df3,'ETHNICID')\n",
    "for i in ethnicity:\n",
    "    an.find_confidence_intervals_binomial(i[0], i[1], i[2])"
   ]
  },
  {
   "cell_type": "code",
   "execution_count": null,
   "id": "09ad1863-49c5-49b8-8ae9-285a40ce8ecd",
   "metadata": {},
   "outputs": [],
   "source": [
    "offense=an.identify_n_p_variable(df3,'OFFENSECATID')\n",
    "for i in offense:\n",
    "    an.find_confidence_intervals_binomial(i[0], i[1], i[2])"
   ]
  },
  {
   "cell_type": "code",
   "execution_count": null,
   "id": "66c907be-477d-44a1-86cf-230d8c48bb4f",
   "metadata": {},
   "outputs": [],
   "source": [
    "risk=an.identify_n_p_variable(df3,'CPATCATID')\n",
    "for i in risk:\n",
    "    an.find_confidence_intervals_binomial(i[0], i[1], i[2])"
   ]
  },
  {
   "cell_type": "code",
   "execution_count": null,
   "id": "763fef9c-5353-48c7-b9c8-ebf5104d97b8",
   "metadata": {},
   "outputs": [],
   "source": [
    "crosstab = pd.crosstab(df3['length_groups'], df3['TERMINATIONID'])\n",
    "crosstab"
   ]
  },
  {
   "cell_type": "code",
   "execution_count": null,
   "id": "a1fd9454-b6cc-4069-97a9-d8b829ffc77a",
   "metadata": {},
   "outputs": [],
   "source": [
    "stats.chi2_contingency(crosstab)"
   ]
  },
  {
   "cell_type": "code",
   "execution_count": null,
   "id": "0e81af8f-3905-4734-817c-3945e95db3c9",
   "metadata": {},
   "outputs": [],
   "source": []
  }
 ],
 "metadata": {
  "kernelspec": {
   "display_name": "Python 3",
   "language": "python",
   "name": "python3"
  },
  "language_info": {
   "codemirror_mode": {
    "name": "ipython",
    "version": 3
   },
   "file_extension": ".py",
   "mimetype": "text/x-python",
   "name": "python",
   "nbconvert_exporter": "python",
   "pygments_lexer": "ipython3",
   "version": "3.8.5"
  }
 },
 "nbformat": 4,
 "nbformat_minor": 5
}
