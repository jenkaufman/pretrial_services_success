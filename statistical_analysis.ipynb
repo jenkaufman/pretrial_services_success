{
 "cells": [
  {
   "cell_type": "code",
   "execution_count": null,
   "id": "1a61b65e-29c1-445a-9bd8-3bc1c1031d47",
   "metadata": {},
   "outputs": [],
   "source": [
    "import pandas as pd\n",
    "import numpy as np\n",
    "import matplotlib.pyplot as plt\n",
    "import scipy.stats as stats\n",
    "\n",
    "plt.style.use('ggplot')\n",
    "plt.rcParams.update({'font.size': 13})"
   ]
  },
  {
   "cell_type": "code",
   "execution_count": null,
   "id": "f5cc72c5-deaf-46fd-bfbc-e451cda2e3a8",
   "metadata": {},
   "outputs": [],
   "source": [
    "%store -r df3"
   ]
  },
  {
   "cell_type": "code",
   "execution_count": null,
   "id": "c59ef020-ff9e-4bd7-8f23-824b6524f6cd",
   "metadata": {},
   "outputs": [],
   "source": [
    "df3['OSEX'].value_counts()"
   ]
  },
  {
   "cell_type": "code",
   "execution_count": null,
   "id": "8a42f966-754a-44a7-9746-00778a3b8559",
   "metadata": {},
   "outputs": [],
   "source": [
    "gender_sample_mean = (df3.groupby('OSEX').mean())-60\n",
    "gender_sample_mean"
   ]
  },
  {
   "cell_type": "code",
   "execution_count": null,
   "id": "c49fd957-1eae-4462-9ae4-eec39215506e",
   "metadata": {},
   "outputs": [],
   "source": [
    "variable='Females'\n",
    "n=3358\n",
    "p=0.381179\n",
    "\n",
    "# x = np.linspace(0, 3358, num=3358)\n",
    "# fig, ax = plt.subplots(1, figsize=(16, 6))\n",
    "\n",
    "# ax.plot(x, normal_approx.pdf(x), linewidth=5, c = 'r')\n",
    "\n",
    "# ax.set_title(\"\");"
   ]
  },
  {
   "cell_type": "code",
   "execution_count": null,
   "id": "4a7a40bb-700a-4029-b438-0018602794a6",
   "metadata": {},
   "outputs": [],
   "source": [
    "import sys\n",
    "import src.analysis as an\n"
   ]
  },
  {
   "cell_type": "code",
   "execution_count": null,
   "id": "6974288a-28bf-4867-b8b7-3bdcdae03ba7",
   "metadata": {},
   "outputs": [],
   "source": [
    "an.identify_n_p_variable(df3, 'OSEX')"
   ]
  },
  {
   "cell_type": "code",
   "execution_count": null,
   "id": "5cd887bb-72da-4e18-be4d-8c1a79e80d14",
   "metadata": {},
   "outputs": [],
   "source": [
    "an.find_confidence_intervals_binomial(n,p,variable)"
   ]
  },
  {
   "cell_type": "code",
   "execution_count": null,
   "id": "39371160-0486-4d42-811c-136cc95365c2",
   "metadata": {},
   "outputs": [],
   "source": [
    "an.find_confidence_intervals_binomial(n,p,variable)"
   ]
  },
  {
   "cell_type": "code",
   "execution_count": null,
   "id": "c3b218ce-e56d-46ae-acd4-27f0fc97222d",
   "metadata": {},
   "outputs": [],
   "source": [
    "variable='Males'\n",
    "n=11555\n",
    "p=0.406750"
   ]
  },
  {
   "cell_type": "code",
   "execution_count": null,
   "id": "11878408-5557-4f16-a12a-7e412862bea8",
   "metadata": {},
   "outputs": [],
   "source": [
    "an.find_confidence_intervals_binomial(n,p,variable)"
   ]
  },
  {
   "cell_type": "code",
   "execution_count": null,
   "id": "e745723b-f19d-4d72-8262-dadb39225eb6",
   "metadata": {},
   "outputs": [],
   "source": [
    "df3['RACE'].value_counts()"
   ]
  },
  {
   "cell_type": "code",
   "execution_count": null,
   "id": "cdd670de-4575-4cfa-a1a4-a3e94524abe6",
   "metadata": {},
   "outputs": [],
   "source": []
  },
  {
   "cell_type": "code",
   "execution_count": null,
   "id": "89ae06fc-8bed-4ba2-8953-4ab386e66fa7",
   "metadata": {},
   "outputs": [],
   "source": [
    "variable='American India'\n",
    "n=110\n",
    "p=0.618182"
   ]
  },
  {
   "cell_type": "code",
   "execution_count": null,
   "id": "98e78ee7-f7b4-4c3a-98e4-cf60c127ca0d",
   "metadata": {},
   "outputs": [],
   "source": [
    "an.find_confidence_intervals_binomial(n,p,variable)"
   ]
  },
  {
   "cell_type": "code",
   "execution_count": null,
   "id": "d0851154-4a6e-47da-bef7-72108692d7ca",
   "metadata": {},
   "outputs": [],
   "source": [
    "variable='American India'\n",
    "n=110\n",
    "p=0.618182"
   ]
  },
  {
   "cell_type": "code",
   "execution_count": null,
   "id": "f61aca6f-4734-450c-bf3d-36494ed5da8a",
   "metadata": {},
   "outputs": [],
   "source": [
    "race_sample_mean = (df3.groupby('RACE').mean()['TERMINATIONID'])-60\n",
    "race_sample_mean_df=pd.DataFrame()\n",
    "race_sample_mean_df['item']=race_sample_mean.index\n",
    "race_sample_mean_df['value']=race_sample_mean.values\n",
    "race_sample_mean_df"
   ]
  },
  {
   "cell_type": "code",
   "execution_count": null,
   "id": "afb14bf7-01a7-4ede-9587-359b73145a89",
   "metadata": {},
   "outputs": [],
   "source": [
    "race_sample_mean_df.columns"
   ]
  },
  {
   "cell_type": "code",
   "execution_count": null,
   "id": "f01b0891-6503-4a64-a78e-5bb0a8e298f4",
   "metadata": {},
   "outputs": [],
   "source": [
    "# for item in race_sample_mean_df:\n",
    "#     variable=race_sample_mean_df[item]\n",
    "#     p=race_sample_mean_df[value]\n",
    "#     n=\n",
    "#     print(variable, n, p)\n",
    "    \n",
    "# import pandas as pd\n",
    "# df = pd.DataFrame({'c1': [10, 11, 12], 'c2': [100, 110, 120]})\n",
    "# for index, row in df.iterrows():\n",
    "#     print(row['c1'], row['c2'])\n",
    "\n",
    "counts=pd.DataFrame(df3['RACE'].value_counts())\n",
    "\n",
    "race_sample_mean = (df3.groupby('RACE').mean()['TERMINATIONID'])-60\n",
    "race_sample_mean_df=pd.DataFrame()\n",
    "race_sample_mean_df['item']=race_sample_mean.index\n",
    "race_sample_mean_df['value']=race_sample_mean.values\n",
    "race_sample_mean_df\n",
    "\n",
    "# for index, row in race_sample_mean_df.iterrows():\n",
    "#     variable=row['item']\n",
    "#     p=row['value']\n",
    "#     print(variable,p)\n",
    "    \n",
    "for index, row in counts.iterrows():\n",
    "    n=row['RACE']\n",
    "    print(n)"
   ]
  },
  {
   "cell_type": "code",
   "execution_count": null,
   "id": "64e86a2e-ec72-403a-a368-ed1f38ffd0eb",
   "metadata": {},
   "outputs": [],
   "source": [
    "race_sample_mean = (df3.groupby('RACE').mean()['TERMINATIONID'])-60\n",
    "race_sample_mean"
   ]
  },
  {
   "cell_type": "code",
   "execution_count": null,
   "id": "659a6cab-13d1-418d-b1e1-ee533c6ed4ea",
   "metadata": {},
   "outputs": [],
   "source": [
    "x=df3.groupby(['RACE']).agg({'TERMINATIONID':lambda x:x.mean()-60, 'RACE':lambda x:x.value_counts()})\n",
    "x=x.rename(columns={'RACE':'count'})\n",
    "x=x.reset_index()\n",
    "x"
   ]
  },
  {
   "cell_type": "code",
   "execution_count": null,
   "id": "d5e811c3-1e76-4d23-83aa-29b124b34d7c",
   "metadata": {},
   "outputs": [],
   "source": [
    "for index, row in x.iterrows():\n",
    "    n=row['count']\n",
    "    variable=row['RACE']\n",
    "    p=row['TERMINATIONID']\n",
    "    print(n, variable,p)"
   ]
  },
  {
   "cell_type": "code",
   "execution_count": null,
   "id": "52f0c327-36a9-4624-81d0-397ca5aaadf0",
   "metadata": {},
   "outputs": [],
   "source": [
    "x=an.identify_n_p_variable(df3,'RACE')\n",
    "x"
   ]
  },
  {
   "cell_type": "code",
   "execution_count": null,
   "id": "4b27d9a3-9329-480c-9a13-b54d3fb3e487",
   "metadata": {},
   "outputs": [],
   "source": [
    "for i in x:\n",
    "    an.find_confidence_intervals_binomial(i[0], i[1], i[2])"
   ]
  },
  {
   "cell_type": "code",
   "execution_count": null,
   "id": "42d303cb-2056-4f35-84e9-e5169c3236f9",
   "metadata": {},
   "outputs": [],
   "source": [
    "z=pd.DataFrame()\n",
    "for i in df3.columns:\n",
    "    v=an.identify_n_p_variable(df3,i)\n",
    "    z.append(v)"
   ]
  },
  {
   "cell_type": "code",
   "execution_count": null,
   "id": "13400b3b-753e-4cb7-a210-eb54a5a06165",
   "metadata": {},
   "outputs": [],
   "source": [
    "v"
   ]
  },
  {
   "cell_type": "code",
   "execution_count": null,
   "id": "d963849e-0c03-4828-b87b-d8f7e6550a5f",
   "metadata": {},
   "outputs": [],
   "source": [
    "an.find_confidence_intervals_binomial(n,p,variable)"
   ]
  },
  {
   "cell_type": "code",
   "execution_count": null,
   "id": "28e8c032-c00a-48a5-83cc-fba53c509bc4",
   "metadata": {},
   "outputs": [],
   "source": []
  },
  {
   "cell_type": "code",
   "execution_count": null,
   "id": "5345dced-a01f-4c10-bd37-e7e4042a7e1a",
   "metadata": {},
   "outputs": [],
   "source": [
    "def identify_n_p_variable(df, column):\n",
    "    x=df.groupby(column).agg({'TERMINATIONID':lambda x:x.mean()-60, column:lambda x:x.value_counts()})\n",
    "    x=x.rename(columns={column:'count'})\n",
    "    x=x.reset_index()\n",
    "    return_list=[]\n",
    "    for index, row in x.iterrows():\n",
    "        n=row['count']\n",
    "        p=row['TERMINATIONID']\n",
    "        variable=row[column]\n",
    "        return_list.append([n,p,variable])\n",
    "    return return_list "
   ]
  },
  {
   "cell_type": "code",
   "execution_count": null,
   "id": "91991e23-5972-4cd7-88c1-c9a12f2a2a26",
   "metadata": {},
   "outputs": [],
   "source": [
    "identify_n_p_variable(df3, 'RACE')"
   ]
  },
  {
   "cell_type": "code",
   "execution_count": null,
   "id": "edfc358f-4c30-498f-b0cd-78fd7e5c6443",
   "metadata": {},
   "outputs": [],
   "source": [
    "for index, row in x.iterrows():\n",
    "    n=row['count']\n",
    "    variable=row['RACE']\n",
    "    p=row['TERMINATIONID']\n",
    "    print(n, variable,p)"
   ]
  }
 ],
 "metadata": {
  "kernelspec": {
   "display_name": "Python 3",
   "language": "python",
   "name": "python3"
  },
  "language_info": {
   "codemirror_mode": {
    "name": "ipython",
    "version": 3
   },
   "file_extension": ".py",
   "mimetype": "text/x-python",
   "name": "python",
   "nbconvert_exporter": "python",
   "pygments_lexer": "ipython3",
   "version": "3.8.5"
  }
 },
 "nbformat": 4,
 "nbformat_minor": 5
}
