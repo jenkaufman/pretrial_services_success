{
 "cells": [
  {
   "cell_type": "code",
   "execution_count": null,
   "id": "1a61b65e-29c1-445a-9bd8-3bc1c1031d47",
   "metadata": {},
   "outputs": [],
   "source": [
    "import pandas as pd\n",
    "import numpy as np\n",
    "import matplotlib.pyplot as plt\n",
    "import scipy.stats as stats\n",
    "\n",
    "\n",
    "plt.style.use('ggplot')\n",
    "plt.rcParams.update({'font.size': 13})"
   ]
  },
  {
   "cell_type": "code",
   "execution_count": null,
   "id": "f5cc72c5-deaf-46fd-bfbc-e451cda2e3a8",
   "metadata": {},
   "outputs": [],
   "source": [
    "%store -r df3"
   ]
  },
  {
   "cell_type": "code",
   "execution_count": null,
   "id": "4a7a40bb-700a-4029-b438-0018602794a6",
   "metadata": {},
   "outputs": [],
   "source": [
    "import sys\n",
    "import src.analysis as an\n"
   ]
  },
  {
   "cell_type": "markdown",
   "id": "583406c7-da9d-440f-92d9-f05b1a75acb0",
   "metadata": {},
   "source": [
    "### Confidence Intervals and p-values"
   ]
  },
  {
   "cell_type": "code",
   "execution_count": null,
   "id": "b026fc3e-01ea-4661-a59c-dc6bf7369913",
   "metadata": {},
   "outputs": [],
   "source": [
    "# df3['age_groups'] = pd.cut(df3.Age, \n",
    "#                                      [13, 18, 24, 34, 44, 54, 64, 90], \n",
    "#                                      include_lowest=True)\n"
   ]
  },
  {
   "cell_type": "code",
   "execution_count": null,
   "id": "12699eb3-5ea3-41a2-81cb-b453863b5bf5",
   "metadata": {},
   "outputs": [],
   "source": [
    "# df3['length_groups']=pd.cut(df3.length_of_segments, \n",
    "#                             [0, 1, 30, 100, 200, 400, 800, 1600], \n",
    "#                                      include_lowest=True)\n",
    "\n"
   ]
  },
  {
   "cell_type": "markdown",
   "id": "a99f2468-d460-4849-8277-fcd23836dfce",
   "metadata": {},
   "source": [
    "### Age <br>\n",
    "* $H_0$: Successful and unsuccessful groups do not vary by age.<br>\n",
    "* $H_a$: Successful and unsuccessful groups do vary by age.<br>\n",
    "alpha=0.05<br>\n",
    "statistical test=Mann–Whitney U test<br>\n"
   ]
  },
  {
   "cell_type": "code",
   "execution_count": null,
   "id": "aeab2b6f-8d1c-47b0-9251-5806bdb3ecd8",
   "metadata": {},
   "outputs": [],
   "source": [
    "successful= df3[df3['TERMINATIONID']==1]['Age']\n",
    "unsuccessful= df3[df3['TERMINATIONID']==0]['Age']\n",
    "\n",
    "print(\"Mann-Whitney U test:\")\n",
    "print(stats.mannwhitneyu(successful, unsuccessful, alternative = 'two-sided'))\n",
    "#p-value>0.05 fail to reject null hypothesis"
   ]
  },
  {
   "cell_type": "markdown",
   "id": "248316aa-530a-46a6-bcc7-6924953b73fa",
   "metadata": {},
   "source": [
    "### Gender"
   ]
  },
  {
   "cell_type": "code",
   "execution_count": null,
   "id": "f2268b3e-5489-4260-ac61-e7bba5c1d759",
   "metadata": {},
   "outputs": [],
   "source": [
    "gender=an.identify_n_p_variable(df3,'OSEX')\n",
    "for i in gender:\n",
    "    an.find_confidence_intervals_binomial(i[0], i[1], i[2])"
   ]
  },
  {
   "cell_type": "markdown",
   "id": "9e80de1d-e97b-4bdf-beab-757682d43428",
   "metadata": {},
   "source": [
    "#### Hypothesis \n",
    "* $H_0$: Pretrial services success and gender are independent.<br>\n",
    "* $H_a$: Pretrial services success and gender are not independent.<br>\n",
    "alpha with Bonferroni Correction=0.025 (0.05/2)<br>\n",
    "statistical test=chi-squared test of independence<br>"
   ]
  },
  {
   "cell_type": "code",
   "execution_count": null,
   "id": "36d1fed6-10d5-448c-9628-b74a1e1b1ca1",
   "metadata": {},
   "outputs": [],
   "source": [
    "#chi squared test of independence\n",
    "crosstab = pd.crosstab(df3['OSEX'], df3['TERMINATIONID'])\n",
    "print(\"Chi Squared test of independence:\")\n",
    "print(stats.chi2_contingency(crosstab))\n",
    "\n",
    "#p-value>0.025 fail to reject null hypothesis"
   ]
  },
  {
   "cell_type": "markdown",
   "id": "e69577b3-1c54-449b-9869-6f6caf575ff5",
   "metadata": {},
   "source": [
    "### Race"
   ]
  },
  {
   "cell_type": "code",
   "execution_count": null,
   "id": "f5f86c26-df06-43c0-bc79-cbde3121fb8e",
   "metadata": {},
   "outputs": [],
   "source": [
    "race=an.identify_n_p_variable(df3,'RACE')\n",
    "for i in race:\n",
    "    an.find_confidence_intervals_binomial(i[0], i[1], i[2])"
   ]
  },
  {
   "cell_type": "markdown",
   "id": "461c4a14-f7fd-4e2f-b01c-acb4b6ff8311",
   "metadata": {},
   "source": [
    "### Ethnicity"
   ]
  },
  {
   "cell_type": "code",
   "execution_count": null,
   "id": "03f1cc0c-df89-4386-9f2e-8aa82ed4ab68",
   "metadata": {},
   "outputs": [],
   "source": [
    "ethnicity=an.identify_n_p_variable(df3,'ETHNICID')\n",
    "for i in ethnicity:\n",
    "    an.find_confidence_intervals_binomial(i[0], i[1], i[2])"
   ]
  },
  {
   "cell_type": "markdown",
   "id": "4c68ead5-e574-4c46-a89c-3ab854756c7f",
   "metadata": {},
   "source": [
    "#### Hypothesis\n",
    "* $H_0$: Pretrial services success and ethnicity are independent.<br>\n",
    "* $H_a$: Pretrial services success and ethnicity are not independent.<br>\n",
    "alpha with Bonferroni Correction=0.0166 (0.05/3)<br>\n",
    "statistical test=chi-squared test of independence<br>"
   ]
  },
  {
   "cell_type": "code",
   "execution_count": null,
   "id": "b137734d-5867-4063-877f-e0821f2fc93b",
   "metadata": {},
   "outputs": [],
   "source": [
    "#chi squared test of independence\n",
    "crosstab = pd.crosstab(df3['ETHNICID'], df3['TERMINATIONID'])\n",
    "stats.chi2_contingency(crosstab)\n",
    "print(\"Chi Squared test of independence:\")\n",
    "print(stats.chi2_contingency(crosstab))\n",
    "#p>0.0166 fail to reject null hypothesis"
   ]
  },
  {
   "cell_type": "markdown",
   "id": "e8fcabe6-ce74-4f8b-8827-ae745761b109",
   "metadata": {},
   "source": [
    "### Offense"
   ]
  },
  {
   "cell_type": "code",
   "execution_count": null,
   "id": "09ad1863-49c5-49b8-8ae9-285a40ce8ecd",
   "metadata": {},
   "outputs": [],
   "source": [
    "offense=an.identify_n_p_variable(df3,'OFFENSECATID')\n",
    "for i in offense:\n",
    "    an.find_confidence_intervals_binomial(i[0], i[1], i[2])"
   ]
  },
  {
   "cell_type": "markdown",
   "id": "ce4490e5-c515-453f-b55e-237537a843ef",
   "metadata": {},
   "source": [
    "### Risk Level"
   ]
  },
  {
   "cell_type": "code",
   "execution_count": null,
   "id": "66c907be-477d-44a1-86cf-230d8c48bb4f",
   "metadata": {},
   "outputs": [],
   "source": [
    "risk=an.identify_n_p_variable(df3,'CPATCATID')\n",
    "for i in risk:\n",
    "    an.find_confidence_intervals_binomial(i[0], i[1], i[2])"
   ]
  },
  {
   "cell_type": "markdown",
   "id": "d5412bc5-f8fe-45bb-b685-8988d3d4dcdc",
   "metadata": {},
   "source": [
    "### Length of Supervision"
   ]
  },
  {
   "cell_type": "markdown",
   "id": "e8964e1f-9de4-4806-bb2d-c52d61ee60e6",
   "metadata": {},
   "source": [
    "#### Hypothesis\n",
    "* $H_0$: Successful and unsuccessful groups do not vary by length of supervision.<br>\n",
    "* $H_a$: Successful and unsuccessful groups do vary by length of supervision.<br>\n",
    "alpha with Bonferroni Correction=0.0125 (0.05/4)<br>\n",
    "statistical test=Mann–Whitney U test<br>"
   ]
  },
  {
   "cell_type": "code",
   "execution_count": null,
   "id": "dd596915-a78a-4a34-a788-2456d10fed78",
   "metadata": {},
   "outputs": [],
   "source": [
    "successful= df3[df3['TERMINATIONID']==1]['length_of_segments']\n",
    "unsuccessful= df3[df3['TERMINATIONID']==0]['length_of_segments']\n",
    "\n",
    "print(\"Mann-Whitney U test:\")\n",
    "print(stats.mannwhitneyu(successful, unsuccessful, alternative = 'two-sided'))\n",
    "#p<0.0125 reject null hypothesis"
   ]
  },
  {
   "cell_type": "code",
   "execution_count": null,
   "id": "bcf31c9b-04ee-4ac6-b616-6583ee4dafaf",
   "metadata": {},
   "outputs": [],
   "source": [
    "fig,ax = plt.subplots()\n",
    "\n",
    "\n",
    "successful = stats.norm(successful.mean(), successful.std())\n",
    "unsuccessful = stats.norm(unsuccessful.mean(), unsuccessful.std())\n",
    "\n",
    "support = np.linspace(unsuccessful.ppf(0.0001), successful.ppf(0.9999), 100)\n",
    "successful_pdf = successful.pdf(support)\n",
    "unsuccessful_pdf = unsuccessful.pdf(support)\n",
    "\n",
    "ax.plot(support, successful_pdf, color='blue', label='Successful')\n",
    "ax.fill(support, successful_pdf, color='blue', alpha=0.5)\n",
    "ax.plot(support, unsuccessful_pdf, color='red', label='Unsuccessful')\n",
    "ax.fill(support, unsuccessful_pdf, color='red', alpha=0.5)\n",
    "ax.legend()\n",
    "ax.set_title(\"Distribution of Sample Means for Length of Supervision\");"
   ]
  },
  {
   "cell_type": "code",
   "execution_count": null,
   "id": "096a2562-1adf-4017-a97a-c5404b7de58d",
   "metadata": {},
   "outputs": [],
   "source": []
  }
 ],
 "metadata": {
  "kernelspec": {
   "display_name": "Python 3",
   "language": "python",
   "name": "python3"
  },
  "language_info": {
   "codemirror_mode": {
    "name": "ipython",
    "version": 3
   },
   "file_extension": ".py",
   "mimetype": "text/x-python",
   "name": "python",
   "nbconvert_exporter": "python",
   "pygments_lexer": "ipython3",
   "version": "3.8.5"
  }
 },
 "nbformat": 4,
 "nbformat_minor": 5
}
